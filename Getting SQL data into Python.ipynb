{
 "cells": [
  {
   "cell_type": "code",
   "execution_count": 38,
   "metadata": {},
   "outputs": [
    {
     "name": "stdout",
     "output_type": "stream",
     "text": [
      "Requirement already satisfied: sqlalchemy in /Applications/anaconda3/lib/python3.7/site-packages (1.3.5)\n",
      "Requirement already satisfied: PyPI in /Applications/anaconda3/lib/python3.7/site-packages (2.1)\n",
      "Requirement already satisfied: psycopg2-binary in /Applications/anaconda3/lib/python3.7/site-packages (2.8.3)\n"
     ]
    }
   ],
   "source": [
    "!pip install sqlalchemy\n",
    "!pip install PyPI\n",
    "!pip install psycopg2-binary"
   ]
  },
  {
   "cell_type": "code",
   "execution_count": 52,
   "metadata": {},
   "outputs": [],
   "source": [
    "import numpy as np\n",
    "import pandas as pd\n",
    "import math\n",
    "import statistics as stats\n",
    "from sqlalchemy import create_engine"
   ]
  },
  {
   "cell_type": "code",
   "execution_count": 39,
   "metadata": {},
   "outputs": [],
   "source": [
    "postgres_user = 'dsbc_student'\n",
    "postgres_pw = '7*.8G9QH21'\n",
    "postgres_host = '142.93.121.174'\n",
    "postgres_port = '5432'\n",
    "postgres_db = 'dvdrentals'\n",
    "\n",
    "engine = create_engine('postgresql://{}:{}@{}:{}/{}'.format(\n",
    "    postgres_user, postgres_pw, postgres_host, postgres_port, postgres_db))\n"
   ]
  },
  {
   "cell_type": "code",
   "execution_count": 45,
   "metadata": {},
   "outputs": [
    {
     "name": "stdout",
     "output_type": "stream",
     "text": [
      "1.) How many movies are released for each rating?\n",
      "There are 195 movies rated R.\n",
      "There are 210 movies rated NC-17.\n",
      "There are 194 movies rated PG.\n",
      "There are 223 movies rated PG-13.\n",
      "There are 178 movies rated G.\n"
     ]
    }
   ],
   "source": [
    "sql = '''\n",
    "SELECT rating, COUNT(rating)\n",
    "FROM film\n",
    "GROUP BY rating\n",
    "'''\n",
    "\n",
    "results = engine.execute(sql)\n",
    "engine.dispose()\n",
    "rows = results.fetchall()\n",
    "\n",
    "\n",
    "print('1.) How many movies are released for each rating?')\n",
    "for row in rows:\n",
    "    print(\"There are {} movies rated {}.\".format(row[1], row[0]))\n",
    "  \n"
   ]
  },
  {
   "cell_type": "code",
   "execution_count": 46,
   "metadata": {},
   "outputs": [
    {
     "name": "stdout",
     "output_type": "stream",
     "text": [
      "2.) What is the average rental duration for each rating?\n",
      "R: 4.8\n",
      "NC-17: 5.1\n",
      "PG: 5.1\n",
      "PG-13: 5.1\n",
      "G: 4.8\n"
     ]
    }
   ],
   "source": [
    "sql = '''\n",
    "SELECT rating, ROUND(AVG(rental_duration),1) AS average_rental_days\n",
    "FROM film\n",
    "GROUP BY rating\n",
    "'''\n",
    "\n",
    "rental_duration = engine.execute(sql)\n",
    "engine.dispose()\n",
    "rows = rental_duration.fetchall()\n",
    "\n",
    "print('2.) What is the average rental duration for each rating?')\n",
    "for row in rows:\n",
    "    print(\"{}: {}\".format(row[0], row[1]))"
   ]
  },
  {
   "cell_type": "code",
   "execution_count": 48,
   "metadata": {},
   "outputs": [
    {
     "name": "stdout",
     "output_type": "stream",
     "text": [
      "The mean movie length is 115.272\n"
     ]
    }
   ],
   "source": [
    "sql = '''\n",
    "SELECT length\n",
    "FROM film\n",
    "'''\n",
    "length = engine.execute(sql)\n",
    "engine.dispose()\n",
    "rows = length.fetchall()\n",
    "length = [x['length'] for x in rows]\n",
    "\n",
    "\n",
    "def mean(numbers):\n",
    "    total_sum = 0\n",
    "    for n in numbers:\n",
    "        total_sum += n\n",
    "    count = len(numbers)\n",
    "    avg = total_sum / count\n",
    "    return avg\n",
    "print('The mean movie length is {}'.format(mean(length)))\n"
   ]
  },
  {
   "cell_type": "code",
   "execution_count": 49,
   "metadata": {},
   "outputs": [
    {
     "name": "stdout",
     "output_type": "stream",
     "text": [
      "The median movie length is 114.0\n"
     ]
    }
   ],
   "source": [
    "def median(numbers):\n",
    "    numbers.sort()\n",
    "    count = len(numbers)\n",
    "    isEven = count % 2 == 0\n",
    "    \n",
    "    if (isEven):\n",
    "        mid = math.floor(count / 2)\n",
    "        a = numbers[mid]\n",
    "        b = numbers[mid + 1]\n",
    "        ans=(a+b) / 2\n",
    "    else: \n",
    "        ans = numbers[math.floor(count / 2)]\n",
    "    return ans\n",
    "\n",
    "print(\"The median movie length is {}\".format(median(length)))"
   ]
  },
  {
   "cell_type": "code",
   "execution_count": 59,
   "metadata": {},
   "outputs": [
    {
     "name": "stdout",
     "output_type": "stream",
     "text": [
      "The standard deviation of the movie lengths is 40.\n"
     ]
    }
   ],
   "source": [
    "def standard_deviation(numbers):\n",
    "    X_bar = mean(numbers)\n",
    "    N = len(numbers)\n",
    "    total_sum = 0\n",
    "    for X in numbers:\n",
    "        diff = X - X_bar\n",
    "        squared = math.pow(diff, 2)\n",
    "        total_sum += squared\n",
    "    sigma = math.sqrt(total_sum / (N-1))\n",
    "    return sigma\n",
    "\n",
    "\n",
    "\n",
    "print(\"The standard deviation of the movie lengths is {}.\".format(round(standard_deviation(length)),1))"
   ]
  },
  {
   "cell_type": "code",
   "execution_count": null,
   "metadata": {},
   "outputs": [],
   "source": []
  }
 ],
 "metadata": {
  "kernelspec": {
   "display_name": "Python 3",
   "language": "python",
   "name": "python3"
  },
  "language_info": {
   "codemirror_mode": {
    "name": "ipython",
    "version": 3
   },
   "file_extension": ".py",
   "mimetype": "text/x-python",
   "name": "python",
   "nbconvert_exporter": "python",
   "pygments_lexer": "ipython3",
   "version": "3.7.3"
  }
 },
 "nbformat": 4,
 "nbformat_minor": 2
}
